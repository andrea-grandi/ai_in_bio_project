import pandas as pd 
import numpy as np 
import matplotlib.pyplot as plt 
import seaborn as sns


df = pd.read_csv("/Users/andreagrandi/Developer/bio_project/src/bio_project/data/camelyon17_v1.0/metadata.csv")
df.head()


df.isnull().sum()


df.shape


df[df['tumor']==0].shape[0]


df.groupby('tumor').size().plot.bar()


df.describe()


df.groupby('patient').size().plot.bar()


df.patient.unique().shape[0]


new_df = df[df['patient']==22]


new_df.head()


new_df.groupby('tumor').size().plot.bar()


new_df[new_df['x_coord']==10752]



