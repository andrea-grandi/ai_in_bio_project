import pandas as pd 
import numpy as np 
import matplotlib.pyplot as plt 
import seaborn as sns


df = pd.read_csv("metadata.csv")
df.head()


df.isnull().sum()


df.shape


df[df['tumor']==0].shape[0]


df.groupby('tumor').size().plot.bar()






